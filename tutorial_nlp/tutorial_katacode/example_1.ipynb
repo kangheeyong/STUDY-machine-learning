{
 "cells": [
  {
   "cell_type": "markdown",
   "metadata": {},
   "source": [
    "# Text Cleaning\n",
    "- https://katacoda.com/basiafusinska/courses/nlp-with-python/text-cleaning"
   ]
  },
  {
   "cell_type": "code",
   "execution_count": 1,
   "metadata": {},
   "outputs": [],
   "source": [
    "import nltk\n",
    "nltk.download(\"movie_reviews\", quiet=True)\n",
    "#from nltk.corpus import movie_reviews\n",
    "\n",
    "def load_movie_reviews():\n",
    "\n",
    "    # movie_reviews is a sizeable corpus to import, so only load it if we have to\n",
    "    from nltk.corpus import movie_reviews\n",
    "    try:\n",
    "        movie_reviews.categories()\n",
    "    except:\n",
    "        import nltk\n",
    "        print('This appears to be your first time using the NLTK Movie Reviews corpus. We will first download the necessary corpus (this is a one-time download that might take a little while')\n",
    "        nltk.download('movie_reviews')\n",
    "        from nltk.corpus import movie_reviews\n",
    "\n",
    "    raw_data = []\n",
    "\n",
    "    # NLTK's corpus is structured in an interesting way\n",
    "    # first iterate through the two categories (pos and neg)\n",
    "    for category in movie_reviews.categories():\n",
    "\n",
    "        if category == 'pos':\n",
    "            pretty_category_name = 'positive'\n",
    "        elif category == 'neg':\n",
    "            pretty_category_name = 'negative'\n",
    "\n",
    "        # each of these categories is just fileids, so grab those\n",
    "        for fileid in movie_reviews.fileids(category):\n",
    "\n",
    "            # then each review is a NLTK class where each item in that class instance is a word\n",
    "            review_words = movie_reviews.words(fileid)\n",
    "            review_text = ''\n",
    "\n",
    "            for word in review_words:\n",
    "                review_text += ' ' + word\n",
    "\n",
    "            review_dictionary = {\n",
    "                'text': review_text,\n",
    "                'sentiment': pretty_category_name\n",
    "            }\n",
    "\n",
    "            raw_data.append(review_dictionary)\n",
    "\n",
    "    return raw_data \n",
    "\n",
    "documents=load_movie_reviews()\n",
    "\n"
   ]
  },
  {
   "cell_type": "code",
   "execution_count": 2,
   "metadata": {},
   "outputs": [],
   "source": [
    "assert len(documents) == 2000"
   ]
  },
  {
   "cell_type": "code",
   "execution_count": 3,
   "metadata": {},
   "outputs": [
    {
     "data": {
      "text/plain": [
       "{'text': ' it was with great anticipation that i sat down to view braveheart last week as it premiered on american cable . the academy award winning film had been highly acclaimed . it also featured the music of one of my favorite film composers , james horner . what i was in for was a disappointing and overlong film which was anything but the best picture of 1995 . what drags braveheart down is its screenplay . it abounds with high production values : john toll \\' s award - winning cinematography ( which also graced edward zwick \\' s 1994 legends of the fall ) , a gorgeous score by horner , and the sort of logistics that make you wish assistant directors were household names . but this does not save a misguided script . the film wishes to paint its central character as a hero , but the viewer \\' s only response to his \" heroism \" is intellectual : william wallace ( producer - director mel gibson ) is fighting for freedom and against tyranny , so we have to root for him . but wallace \\' s actions paint a different story . he speaks of freedom and acts of vengeance . though one intellectually realizes wallace is on the right side , the film paints an unconvincing emotional portait , in which wallace is just not as bad as the english king . wallace speaks of freedom , but his acts point toward vengeance . after kicking the english out of scotland , he decides to invade england . this is evident of a \" spartacus complex \" , and this example applies both historically and cinematically . the historical spartacus at one point moved from liberating slaves to sacking roman cities ; the film spartacus , like braveheart , has high production values and competent performaces and is dragged down by an awful screenplay . it is a shame that such an excellent score is part of such a terrible film . horner \\' s score tries to make emotional connection , but the performances and the script do not help . gibson portrays wallace in such a way that the audience cannot relate to him or identify with him . this drags down any emotional connection to the film \\' s plot , and turns three hours into a total waste of time .',\n",
       " 'sentiment': 'negative'}"
      ]
     },
     "execution_count": 3,
     "metadata": {},
     "output_type": "execute_result"
    }
   ],
   "source": [
    "example_idx = 75\n",
    "document = documents[example_idx]\n",
    "document"
   ]
  },
  {
   "cell_type": "code",
   "execution_count": 4,
   "metadata": {},
   "outputs": [],
   "source": [
    "_doc_lengths = [len(document['text']) for document in documents]\n"
   ]
  },
  {
   "cell_type": "code",
   "execution_count": 5,
   "metadata": {},
   "outputs": [],
   "source": [
    "import pandas as pd"
   ]
  },
  {
   "cell_type": "code",
   "execution_count": 6,
   "metadata": {},
   "outputs": [
    {
     "data": {
      "text/plain": [
       "count     2000.0000\n",
       "mean      3905.2600\n",
       "std       1718.6621\n",
       "min         92.0000\n",
       "25%       2746.5000\n",
       "50%       3641.5000\n",
       "75%       4731.5000\n",
       "max      15098.0000\n",
       "dtype: float64"
      ]
     },
     "execution_count": 6,
     "metadata": {},
     "output_type": "execute_result"
    }
   ],
   "source": [
    "doc_lengths =pd.Series(_doc_lengths)\n",
    "doc_lengths.describe()"
   ]
  },
  {
   "cell_type": "code",
   "execution_count": 7,
   "metadata": {},
   "outputs": [
    {
     "data": {
      "text/plain": [
       "0    4062\n",
       "1    1383\n",
       "2    2859\n",
       "3    2984\n",
       "4    4441\n",
       "5    3889\n",
       "6    3385\n",
       "7    3612\n",
       "8    4571\n",
       "9    4575\n",
       "dtype: int64"
      ]
     },
     "execution_count": 7,
     "metadata": {},
     "output_type": "execute_result"
    }
   ],
   "source": [
    "doc_lengths[:10]"
   ]
  },
  {
   "cell_type": "code",
   "execution_count": 8,
   "metadata": {},
   "outputs": [
    {
     "data": {
      "text/plain": [
       "<matplotlib.axes._subplots.AxesSubplot at 0x7f36beb36410>"
      ]
     },
     "execution_count": 8,
     "metadata": {},
     "output_type": "execute_result"
    },
    {
     "data": {
      "image/png": "[encoded data removed]",
      "text/plain": [
       "<Figure size 432x288 with 1 Axes>"
      ]
     },
     "metadata": {
      "needs_background": "light"
     },
     "output_type": "display_data"
    }
   ],
   "source": [
    "doc_lengths.hist(bins=100)"
   ]
  },
  {
   "cell_type": "code",
   "execution_count": 9,
   "metadata": {},
   "outputs": [],
   "source": [
    "_word_lengths = [len(document['text'].split()) for document in documents]"
   ]
  },
  {
   "cell_type": "code",
   "execution_count": 10,
   "metadata": {},
   "outputs": [
    {
     "data": {
      "text/plain": [
       "count    2000.000000\n",
       "mean      791.910000\n",
       "std       347.338096\n",
       "min        19.000000\n",
       "25%       560.000000\n",
       "50%       745.000000\n",
       "75%       957.250000\n",
       "max      2879.000000\n",
       "dtype: float64"
      ]
     },
     "execution_count": 10,
     "metadata": {},
     "output_type": "execute_result"
    }
   ],
   "source": [
    "word_lengths =pd.Series(_word_lengths)\n",
    "word_lengths.describe()"
   ]
  },
  {
   "cell_type": "code",
   "execution_count": 11,
   "metadata": {},
   "outputs": [
    {
     "data": {
      "text/plain": [
       "<matplotlib.axes._subplots.AxesSubplot at 0x7f36bc164250>"
      ]
     },
     "execution_count": 11,
     "metadata": {},
     "output_type": "execute_result"
    },
    {
     "data": {
      "image/png": "[encoded data removed]",
      "text/plain": [
       "<Figure size 432x288 with 1 Axes>"
      ]
     },
     "metadata": {
      "needs_background": "light"
     },
     "output_type": "display_data"
    }
   ],
   "source": [
    "word_lengths.hist(bins=100)"
   ]
  },
  {
   "cell_type": "code",
   "execution_count": 25,
   "metadata": {},
   "outputs": [],
   "source": [
    "from collections import defaultdict\n",
    "word_counts = defaultdict(int)"
   ]
  },
  {
   "cell_type": "code",
   "execution_count": 26,
   "metadata": {},
   "outputs": [],
   "source": [
    "for words in [document['text'].split() for document in documents]:\n",
    "    for word in words:\n",
    "        word_counts[word] += 1"
   ]
  },
  {
   "cell_type": "code",
   "execution_count": 28,
   "metadata": {},
   "outputs": [],
   "source": [
    "from collections import Counter"
   ]
  },
  {
   "cell_type": "code",
   "execution_count": 29,
   "metadata": {},
   "outputs": [],
   "source": [
    "words_counter=Counter(word_counts)"
   ]
  },
  {
   "cell_type": "code",
   "execution_count": 33,
   "metadata": {},
   "outputs": [
    {
     "data": {
      "text/plain": [
       "[(',', 77717),\n",
       " ('the', 76529),\n",
       " ('.', 65876),\n",
       " ('a', 38106),\n",
       " ('and', 35576),\n",
       " ('of', 34123),\n",
       " ('to', 31937),\n",
       " (\"'\", 30585),\n",
       " ('is', 25195),\n",
       " ('in', 21822),\n",
       " ('s', 18513),\n",
       " ('\"', 17612),\n",
       " ('it', 16107),\n",
       " ('that', 15924),\n",
       " ('-', 15595),\n",
       " (')', 11781),\n",
       " ('(', 11664),\n",
       " ('as', 11378),\n",
       " ('with', 10792),\n",
       " ('for', 9961)]"
      ]
     },
     "execution_count": 33,
     "metadata": {},
     "output_type": "execute_result"
    }
   ],
   "source": [
    "words_counter.most_common(20)"
   ]
  },
  {
   "cell_type": "code",
   "execution_count": 34,
   "metadata": {},
   "outputs": [],
   "source": [
    "import re"
   ]
  },
  {
   "cell_type": "code",
   "execution_count": 36,
   "metadata": {},
   "outputs": [],
   "source": [
    "pattern= re.compile('^[a-zA-Z]{2,}$')"
   ]
  },
  {
   "cell_type": "code",
   "execution_count": null,
   "metadata": {},
   "outputs": [],
   "source": []
  },
  {
   "cell_type": "code",
   "execution_count": null,
   "metadata": {},
   "outputs": [],
   "source": []
  },
  {
   "cell_type": "code",
   "execution_count": null,
   "metadata": {},
   "outputs": [],
   "source": []
  }
 ],
 "metadata": {
  "kernelspec": {
   "display_name": "Python 3",
   "language": "python",
   "name": "python3"
  },
  "language_info": {
   "codemirror_mode": {
    "name": "ipython",
    "version": 3
   },
   "file_extension": ".py",
   "mimetype": "text/x-python",
   "name": "python",
   "nbconvert_exporter": "python",
   "pygments_lexer": "ipython3",
   "version": "3.7.5"
  }
 },
 "nbformat": 4,
 "nbformat_minor": 4
}
